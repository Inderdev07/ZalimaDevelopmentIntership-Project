{
  "nbformat": 4,
  "nbformat_minor": 0,
  "metadata": {
    "colab": {
      "private_outputs": true,
      "provenance": [],
      "authorship_tag": "ABX9TyPLpwV/2lyz+GKouOSXSrvz",
      "include_colab_link": true
    },
    "kernelspec": {
      "name": "python3",
      "display_name": "Python 3"
    },
    "language_info": {
      "name": "python"
    }
  },
  "cells": [
    {
      "cell_type": "markdown",
      "metadata": {
        "id": "view-in-github",
        "colab_type": "text"
      },
      "source": [
        "<a href=\"https://colab.research.google.com/github/Inderdev07/ZalimaDevelopmentIntership-Project/blob/main/Soulpage_IT_Solutions_(Inder_Dev_Singh).ipynb\" target=\"_parent\"><img src=\"https://colab.research.google.com/assets/colab-badge.svg\" alt=\"Open In Colab\"/></a>"
      ]
    },
    {
      "cell_type": "markdown",
      "source": [
        "**Explore Data (EDA)**"
      ],
      "metadata": {
        "id": "wT4YRb-NmrgN"
      }
    },
    {
      "cell_type": "code",
      "source": [
        "import pandas as pd\n",
        "\n",
        "train_customers = pd.read_csv(\"https://raw.githubusercontent.com/Inderdev07/ZalimaDevelopmentIntership-Project/main/train_customers.csv\")\n",
        "train_orders = pd.read_csv(\"https://raw.githubusercontent.com/Inderdev07/ZalimaDevelopmentIntership-Project/main/orders.csv\", parse_dates=['created_at','delivery_date'])\n",
        "train_locations = pd.read_csv(\"https://raw.githubusercontent.com/Inderdev07/ZalimaDevelopmentIntership-Project/main/train_locations.csv\")\n",
        "vendors = pd.read_csv(\"https://raw.githubusercontent.com/Inderdev07/ZalimaDevelopmentIntership-Project/main/vendors.csv\")\n",
        "test_customers = pd.read_csv(\"https://raw.githubusercontent.com/Inderdev07/ZalimaDevelopmentIntership-Project/main/test_customers.csv\")\n",
        "test_locations = pd.read_csv(\"https://raw.githubusercontent.com/Inderdev07/ZalimaDevelopmentIntership-Project/main/test_locations.csv\")\n",
        "\n",
        "print(train_customers.shape, train_orders.shape, train_locations.shape, vendors.shape)"
      ],
      "metadata": {
        "id": "KmPHs3hTmzV5"
      },
      "execution_count": null,
      "outputs": []
    },
    {
      "cell_type": "code",
      "metadata": {
        "id": "c0f30292"
      },
      "source": [
        "print(\"train_customers head:\")\n",
        "display(train_customers.head())\n",
        "\n",
        "print(\"\\ntrain_orders head:\")\n",
        "display(train_orders.head())\n",
        "\n",
        "print(\"\\ntrain_locations head:\")\n",
        "display(train_locations.head())\n",
        "\n",
        "print(\"\\nvendors head:\")\n",
        "display(vendors.head())\n",
        "\n",
        "print(\"\\ntest_customers head:\")\n",
        "display(test_customers.head())\n",
        "\n",
        "print(\"\\ntest_locations head:\")\n",
        "display(test_locations.head())"
      ],
      "execution_count": null,
      "outputs": []
    },
    {
      "cell_type": "code",
      "source": [
        "print(train_orders.info())\n",
        "print(train_customers.head())\n",
        "print(vendors.head())\n",
        "print ((train_locations.head()))\n"
      ],
      "metadata": {
        "id": "UmxGjQ53p22l"
      },
      "execution_count": null,
      "outputs": []
    },
    {
      "cell_type": "code",
      "source": [
        "print ((test_locations.head))\n",
        "\n",
        "print (test_customers.head)"
      ],
      "metadata": {
        "id": "-RL4-veXulAg"
      },
      "execution_count": null,
      "outputs": []
    },
    {
      "cell_type": "code",
      "source": [
        "train_customers['age'] = 2025 - pd.to_numeric(train_customers['dob'], errors='coerce')\n",
        "train_customers['age'].fillna(train_customers['age'].median(), inplace=True)\n",
        "vendors['vendor_rating'].fillna(vendors['vendor_rating'].mean(), inplace=True)\n",
        "\n"
      ],
      "metadata": {
        "id": "LHoVrdhHxH_f"
      },
      "execution_count": null,
      "outputs": []
    },
    {
      "cell_type": "code",
      "source": [
        "orders_per_customer = train_orders.groupby('customer_id')['order_id'].count()\n",
        "orders_per_customer.hist(bins=50)"
      ],
      "metadata": {
        "id": "GVDIzOB8x9uo"
      },
      "execution_count": null,
      "outputs": []
    },
    {
      "cell_type": "code",
      "source": [
        "train_customers['age'].hist(bins=30)\n",
        "\n"
      ],
      "metadata": {
        "id": "s9H5l2V6x_zB"
      },
      "execution_count": null,
      "outputs": []
    },
    {
      "cell_type": "code",
      "source": [
        "vendor_orders = train_orders.groupby('vendor_id')['order_id'].count()\n",
        "vendor_info = vendors.set_index('id').join(vendor_orders)\n",
        "vendor_info.plot.scatter(x='vendor_rating', y='order_id')\n"
      ],
      "metadata": {
        "id": "oHOgFUelyFcM"
      },
      "execution_count": null,
      "outputs": []
    },
    {
      "cell_type": "markdown",
      "source": [
        "**Feature Engineering**"
      ],
      "metadata": {
        "id": "_HoMIHp1wM3P"
      }
    },
    {
      "cell_type": "code",
      "source": [
        "import pandas as pd\n",
        "\n",
        "train_customers['age'] = 2025 - pd.to_numeric(train_customers['dob'], errors='coerce')\n",
        "train_customers['age'].fillna(train_customers['age'].median(), inplace=True)\n",
        "\n",
        "print(\"Customer DataFrame with Age:\")\n",
        "display(train_customers.head())"
      ],
      "metadata": {
        "id": "klyzsFtdtgLG"
      },
      "execution_count": null,
      "outputs": []
    },
    {
      "cell_type": "markdown",
      "source": [
        "# **Data Analysis (Exploration)**"
      ],
      "metadata": {
        "id": "rId9MPdaxIcS"
      }
    },
    {
      "cell_type": "code",
      "metadata": {
        "id": "8af1bbce"
      },
      "source": [
        "print(\"Descriptive statistics for train_customers:\")\n",
        "display(train_customers.describe())\n",
        "\n",
        "print(\"\\nDescriptive statistics for train_orders:\")\n",
        "display(train_orders.describe())"
      ],
      "execution_count": null,
      "outputs": []
    },
    {
      "cell_type": "code",
      "source": [
        "train_customers['age'] = 2025 - pd.to_numeric(train_customers['dob'], errors='coerce')\n",
        "print(train_customers['gender'].value_counts())\n",
        "print(train_customers['status'].value_counts())\n",
        "print(train_customers['language'].value_counts())\n"
      ],
      "metadata": {
        "id": "H-JCTCh-yx7S"
      },
      "execution_count": null,
      "outputs": []
    },
    {
      "cell_type": "code",
      "source": [
        "print(train_locations['location_type'].value_counts())\n",
        "train_locations[['latitude','longitude']].describe()\n"
      ],
      "metadata": {
        "id": "IfetZqPiyzl0"
      },
      "execution_count": null,
      "outputs": []
    },
    {
      "cell_type": "code",
      "source": [
        "orders_per_customer = train_orders.groupby('customer_id')['order_id'].count()\n",
        "print(\"Avg orders per customer:\", orders_per_customer.mean())\n",
        "\n",
        "popular_vendors = train_orders['vendor_id'].value_counts().head(10)\n",
        "print(\"Top vendors:\", popular_vendors)\n"
      ],
      "metadata": {
        "id": "OTjJzDMqy4eM"
      },
      "execution_count": null,
      "outputs": []
    },
    {
      "cell_type": "code",
      "source": [
        "print(vendors['vendor_tag_name'].value_counts().head(10))\n",
        "print(vendors['vendor_rating'].describe())\n"
      ],
      "metadata": {
        "id": "meTe0eExzQM2"
      },
      "execution_count": null,
      "outputs": []
    },
    {
      "cell_type": "markdown",
      "source": [
        "**Model Machine Learning**"
      ],
      "metadata": {
        "id": "1PIxmJPLzjtE"
      }
    },
    {
      "cell_type": "code",
      "source": [
        "from sklearn.linear_model import LogisticRegression\n",
        "from sklearn.ensemble import RandomForestClassifier\n",
        "import lightgbm as lgb\n"
      ],
      "metadata": {
        "id": "RwEKBz1Dz2XV"
      },
      "execution_count": null,
      "outputs": []
    },
    {
      "cell_type": "code",
      "source": [
        "orders = train_orders.copy()\n",
        "orders['created_at'] = pd.to_datetime(orders['created_at'], errors='coerce')\n",
        "train_df = orders[orders['created_at'] < \"2024-01-01\"]\n",
        "val_df   = orders[orders['created_at'] >= \"2024-01-01\"]"
      ],
      "metadata": {
        "id": "lxM7CSmm0aws"
      },
      "execution_count": null,
      "outputs": []
    },
    {
      "cell_type": "markdown",
      "source": [
        "Logistic regression model"
      ],
      "metadata": {
        "id": "D_sXfLchDQUU"
      }
    },
    {
      "cell_type": "code",
      "metadata": {
        "id": "c9c7dd95"
      },
      "source": [
        "\n",
        "from sklearn.model_selection import train_test_split\n",
        "from sklearn.preprocessing import StandardScaler\n",
        "from sklearn.metrics import accuracy_score\n",
        "orders = train_orders.copy()\n",
        "orders['created_at'] = pd.to_datetime(orders['created_at'], errors='coerce')\n",
        "features = ['item_count', 'grand_total', 'payment_mode', 'vendor_discount_amount', 'promo_code_discount_percentage', 'is_favorite', 'is_rated', 'vendor_rating', 'driver_rating', 'deliverydistance', 'preparationtime', 'LOCATION_NUMBER']\n",
        "target = 'is_rated'\n",
        "orders['is_rated'] = orders['is_rated'].map({'Yes': 1, 'No': 0})\n",
        "orders['is_favorite'] = orders['is_favorite'].map({'Yes': 1, 'No': 0}).fillna(0)\n",
        "\n",
        "X = orders[features].copy()\n",
        "y = orders[target].copy()\n",
        "X = X[y.notnull()]\n",
        "y = y[y.notnull()]\n",
        "for col in features:\n",
        "    X[col] = pd.to_numeric(X[col], errors='coerce')\n",
        "X = X.fillna(X.mean())\n",
        "X_train, X_test, y_train, y_test = train_test_split(X, y, test_size=0.2, random_state=42)\n",
        "scaler = StandardScaler()\n",
        "X_train_scaled = scaler.fit_transform(X_train)\n",
        "X_test_scaled = scaler.transform(X_test)\n",
        "\n",
        "X_train_scaled = pd.DataFrame(X_train_scaled, columns=features, index=X_train.index)\n",
        "X_test_scaled = pd.DataFrame(X_test_scaled, columns=features, index=X_test.index)\n",
        "model = LogisticRegression(max_iter=1000)\n",
        "model.fit(X_train_scaled, y_train)\n",
        "predictions = model.predict(X_test_scaled)\n",
        "accuracy = accuracy_score(y_test, predictions)\n",
        "print(\"Accuracy:\", accuracy)"
      ],
      "execution_count": null,
      "outputs": []
    },
    {
      "cell_type": "markdown",
      "source": [
        "** Random Forest Classifier**"
      ],
      "metadata": {
        "id": "h6oXBQOeDuKt"
      }
    },
    {
      "cell_type": "code",
      "metadata": {
        "id": "c2760a3a"
      },
      "source": [
        "\n",
        "from sklearn.model_selection import train_test_split\n",
        "from sklearn.preprocessing import StandardScaler\n",
        "from sklearn.metrics import accuracy_score\n",
        "X_train_scaled = X_train_scaled\n",
        "X_test_scaled = X_test_scaled\n",
        "y_train = y_train\n",
        "y_test = y_test\n",
        "model_rf = RandomForestClassifier(random_state=42)\n",
        "model_rf.fit(X_train_scaled, y_train)\n",
        "predictions_rf = model_rf.predict(X_test_scaled)\n",
        "accuracy_rf = accuracy_score(y_test, predictions_rf)\n",
        "print(\"Random Forest Classifier Accuracy:\", accuracy_rf)"
      ],
      "execution_count": null,
      "outputs": []
    },
    {
      "cell_type": "code",
      "source": [
        "import matplotlib.pyplot as plt\n",
        "model_comparison = pd.DataFrame({\n",
        "    'Model': ['Logistic Regression', 'Random Forest'],\n",
        "    'Accuracy': [accuracy, accuracy_rf]\n",
        "})\n",
        "plt.figure(figsize=(3, 4))\n",
        "plt.pie(model_comparison['Accuracy'], labels=model_comparison['Model'], autopct='%1.1f%%', startangle=90)\n",
        "plt.title('Model Accuracy Comparison (Pie Chart)')\n",
        "plt.show()\n",
        "\n",
        "plt.figure(figsize=(2, 3))\n",
        "plt.bar(model_comparison['Model'], model_comparison['Accuracy'], color=['blue', 'green'])\n",
        "plt.ylabel('Accuracy')\n",
        "plt.title('Model Accuracy Comparison (Histogram)')\n",
        "plt.ylim(0, 1)\n",
        "plt.show()"
      ],
      "metadata": {
        "id": "cJSSHPQ7EgOs"
      },
      "execution_count": null,
      "outputs": []
    },
    {
      "cell_type": "code",
      "source": [
        "output_df = pd.DataFrame({\n",
        "    'CID X LOC_NUM X VENDOR': orders.loc[X_test.index, 'CID X LOC_NUM X VENDOR'],\n",
        "    'target': predictions\n",
        "})\n",
        "for index, row in output_df.iterrows():\n",
        "    print(f\"{row['CID X LOC_NUM X VENDOR']} {row['target']}\")"
      ],
      "metadata": {
        "collapsed": true,
        "id": "Mtxvo4BGE8JL"
      },
      "execution_count": null,
      "outputs": []
    },
    {
      "cell_type": "code",
      "metadata": {
        "id": "a54eaed6"
      },
      "source": [
        "print(\"Example Customer IDs:\", train_customers['customer_id'].head().tolist())\n",
        "example_customer_id = train_customers['customer_id'].iloc[0]\n",
        "recommended_vendor_ids = recommend_vendors(example_customer_id)\n",
        "print(f\"\\nRecommended Vendor IDs for customer {example_customer_id}: {recommended_vendor_ids}\")\n",
        "recommended_vendors_details = vendors[vendors['id'].isin(recommended_vendor_ids)]\n",
        "\n",
        "print(\"\\nRecommended Vendor Details:\")\n",
        "display(recommended_vendors_details)"
      ],
      "execution_count": null,
      "outputs": []
    },
    {
      "cell_type": "code",
      "source": [
        "import gradio as gr\n",
        "interface = gr.Interface(\n",
        "    fn=recommend_vendors,\n",
        "    inputs=[\n",
        "        gr.Textbox(label=\"Customer ID\"),\n",
        "        gr.Slider(minimum=1, maximum=10, value=5, label=\"Number of Recommendations\")\n",
        "    ],\n",
        "    outputs=gr.Textbox(label=\"Recommended Vendors\")\n",
        ")\n",
        "\n",
        "interface.launch(debug=True)"
      ],
      "metadata": {
        "id": "fQw71r1kKrVN"
      },
      "execution_count": null,
      "outputs": []
    },
    {
      "cell_type": "code",
      "metadata": {
        "id": "97d09ccb"
      },
      "source": [
        "def recommend_vendors(customer_id, top_n=5):\n",
        "    \"\"\"\n",
        "    Recommends top N vendors for a given customer based on historical data,\n",
        "    customer location, and vendor information.\n",
        "\n",
        "    Args:\n",
        "        customer_id (str): The ID of the customer for whom to generate recommendations.\n",
        "        top_n (int): The number of top vendors to recommend.\n",
        "\n",
        "    Returns:\n",
        "        list: A list of recommended vendor IDs.\n",
        "    \"\"\"\n",
        "    # Get the customer's historical orders\n",
        "    customer_orders = recommendation_data[recommendation_data['customer_id'] == customer_id]\n",
        "\n",
        "    if customer_orders.empty:\n",
        "        # If no historical orders, recommend popular vendors near the customer's location\n",
        "        # Get customer's location (assuming the first location in train_locations for simplicity)\n",
        "        customer_location = train_locations[train_locations['customer_id'] == customer_id].iloc[0]\n",
        "        customer_lat, customer_lon = customer_location['latitude'], customer_location['longitude']\n",
        "\n",
        "        # Calculate distance to all vendors (using a simple Euclidean distance for demonstration)\n",
        "        vendors['distance'] = ((vendors['latitude'] - customer_lat)**2 + (vendors['longitude'] - customer_lon)**2)**0.5\n",
        "\n",
        "        # Recommend top N vendors based on rating and proximity\n",
        "        recommended_vendors = vendors.sort_values(by=['vendor_rating', 'distance'], ascending=[False, True]).reset_index(drop=True).head(top_n)['id'].tolist()\n",
        "\n",
        "\n",
        "        return recommended_vendors\n",
        "    else:\n",
        "        # Simple recommendation logic: recommend vendors the customer has ordered from before\n",
        "        # Supplement with popular vendors near the customer's location if needed\n",
        "        recommended_vendors = customer_orders['vendor_id'].unique().tolist()\n",
        "\n",
        "        if len(recommended_vendors) < top_n:\n",
        "             # Get customer's location (assuming the first location in train_locations for simplicity)\n",
        "            customer_location = train_locations[train_locations['customer_id'] == customer_id].iloc[0]\n",
        "            customer_lat, customer_lon = customer_location['latitude'], customer_location['longitude']\n",
        "\n",
        "            # Calculate distance to all vendors (using a simple Euclidean distance for demonstration)\n",
        "            vendors['distance'] = ((vendors['latitude'] - customer_lat)**2 + (vendors['longitude'] - customer_lon)**2)**0.5\n",
        "\n",
        "            popular_vendors_near_customer = vendors.sort_values(by=['vendor_rating', 'distance'], ascending=[False, True]).reset_index(drop=True).head(top_n*2)['id'].tolist() # Get more to choose from\n",
        "\n",
        "            # Add popular vendors near the customer that are not already in the recommended list\n",
        "            recommended_vendors.extend([vendor for vendor in popular_vendors_near_customer if vendor not in recommended_vendors])\n",
        "            recommended_vendors = recommended_vendors[:top_n]\n",
        "\n",
        "\n",
        "        return recommended_vendors\n",
        "\n",
        "# Example usage:\n",
        "# customer_id = 'TCHWPBT' # Replace with an actual customer ID from your data\n",
        "# recommendations = recommend_vendors(customer_id)\n",
        "# print(f\"Recommended vendors for customer {customer_id}: {recommendations}\")"
      ],
      "execution_count": null,
      "outputs": []
    }
  ]
}